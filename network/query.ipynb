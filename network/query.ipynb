{
 "cells": [
  {
   "cell_type": "code",
   "execution_count": null,
   "id": "604a0535",
   "metadata": {
    "lines_to_next_cell": 0
   },
   "outputs": [],
   "source": []
  },
  {
   "cell_type": "code",
   "execution_count": null,
   "id": "6810c965",
   "metadata": {},
   "outputs": [],
   "source": [
    "import pandas as pd\n",
    "import os\n",
    "import sys\n",
    "import jupytab\n",
    "import tabpy_client"
   ]
  },
  {
   "cell_type": "code",
   "execution_count": null,
   "id": "eca5a905",
   "metadata": {},
   "outputs": [],
   "source": []
  },
  {
   "cell_type": "code",
   "execution_count": null,
   "id": "cdb104e2",
   "metadata": {
    "lines_to_next_cell": 1
   },
   "outputs": [],
   "source": [
    "def fetch(hs_code, nresults = 5):\n",
    "    base_url = 'https://api.wto.org/timeseries/v1/data?i=HS_M_0010&r=all&p=all&pc='\n",
    "    suffix = '&spc=false&ps=2017&max=1000000&fmt=json&mode=codes&lang=1&meta=false&subscription-key=bee004eb9f06452389fd8ed91da707cc'\n",
    "    \n",
    "    query = base_url + hs_code + suffix\n",
    "    fetch = pd.DataFrame(pd.read_json(query, orient='records')['Dataset'].to_dict()).T\n",
    "    data = fetch.sort_values(\"Value\", ascending = False).groupby('ReportingEconomyCode').head(nresults)\n",
    "    return data"
   ]
  },
  {
   "cell_type": "code",
   "execution_count": null,
   "id": "2ab3bf35",
   "metadata": {},
   "outputs": [],
   "source": [
    "connection = tabpy_client.Client('http://localhost:9004/')\n",
    "\n",
    "connection.deploy(\"query_data\", fetch, \"Fetches latest data from WTO\")\n",
    "\n",
    "code = str(sys.argv[1])\n",
    "num_results = sys.argv[2]      \n",
    "tables = jupytab.Tables()  "
   ]
  },
  {
   "cell_type": "code",
   "execution_count": null,
   "id": "177ce740",
   "metadata": {},
   "outputs": [],
   "source": [
    "lat_long = pd.read_csv('https://srtoner.github.io/pictures/lat_long.csv').rename(columns={'Lookup' : 'ReportingEconomyCode'}).set_index(\"ReportingEconomyCode\")"
   ]
  },
  {
   "cell_type": "code",
   "execution_count": null,
   "id": "59f5a378",
   "metadata": {},
   "outputs": [],
   "source": [
    "reporters = lat_long.rename(columns = {\"name\" : \"Reporter\", 'latitude' : 'r_lat', 'longitude' : 'r_long'})\n",
    "partners = lat_long.rename(columns = {\"name\" : \"Partner\", 'latitude' : 'p_lat', 'longitude' : 'p_long'})"
   ]
  },
  {
   "cell_type": "code",
   "execution_count": null,
   "id": "339526d3",
   "metadata": {},
   "outputs": [],
   "source": [
    "data = fetch(code, num_results)"
   ]
  },
  {
   "cell_type": "code",
   "execution_count": null,
   "id": "35a22a87",
   "metadata": {},
   "outputs": [],
   "source": [
    "data['ReportingEconomyCode'] = data['ReportingEconomyCode'].apply(pd.to_numeric)\n",
    "data['PartnerEconomyCode'] = data['PartnerEconomyCode'].apply(pd.to_numeric)"
   ]
  },
  {
   "cell_type": "code",
   "execution_count": null,
   "id": "e5591076",
   "metadata": {},
   "outputs": [],
   "source": [
    "data = data.set_index('ReportingEconomyCode')"
   ]
  },
  {
   "cell_type": "code",
   "execution_count": null,
   "id": "acb23843",
   "metadata": {},
   "outputs": [],
   "source": [
    "df = pd.merge(data, reporters, left_index = True, right_index = True)\n",
    "df = pd.merge(df, partners, left_on = \"PartnerEconomyCode\", right_index = True)"
   ]
  },
  {
   "cell_type": "code",
   "execution_count": null,
   "id": "82b7c783",
   "metadata": {},
   "outputs": [],
   "source": [
    "df = df.reset_index()\n",
    "df = df.rename(columns = {\"ReportingEconomyCode\" : \"ReporterEconomyCode\"})"
   ]
  },
  {
   "cell_type": "code",
   "execution_count": null,
   "id": "1401488c",
   "metadata": {
    "lines_to_next_cell": 2
   },
   "outputs": [],
   "source": [
    "df = df[['ReporterEconomyCode', \n",
    "       'PartnerEconomyCode', \n",
    "       'Year', 'Value', 'r_lat', 'r_long',\n",
    "       'Reporter', 'p_lat', 'p_long', 'Partner', 'ProductOrSectorCode']]"
   ]
  },
  {
   "cell_type": "code",
   "execution_count": null,
   "id": "bb1c9445",
   "metadata": {},
   "outputs": [],
   "source": [
    "tables['dynamic'] = jupytab.DataFrameTable('Trade', dataframe = df, refresh_method=fetch)"
   ]
  },
  {
   "cell_type": "code",
   "execution_count": null,
   "id": "5e494c92",
   "metadata": {},
   "outputs": [],
   "source": [
    "# GET /schema\n",
    "tables.render_schema()"
   ]
  },
  {
   "cell_type": "code",
   "execution_count": null,
   "id": "ed44141a",
   "metadata": {},
   "outputs": [],
   "source": [
    "# GET /data\n",
    "tables.render_data(REQUEST)"
   ]
  }
 ],
 "metadata": {
  "jupytext": {
   "cell_metadata_filter": "-all",
   "main_language": "python",
   "notebook_metadata_filter": "-all"
  },
  "kernelspec": {
   "display_name": "Python 3 (ipykernel)",
   "language": "python",
   "name": "python3"
  },
  "language_info": {
   "codemirror_mode": {
    "name": "ipython",
    "version": 3
   },
   "file_extension": ".py",
   "mimetype": "text/x-python",
   "name": "python",
   "nbconvert_exporter": "python",
   "pygments_lexer": "ipython3",
   "version": "3.9.7"
  }
 },
 "nbformat": 4,
 "nbformat_minor": 5
}
