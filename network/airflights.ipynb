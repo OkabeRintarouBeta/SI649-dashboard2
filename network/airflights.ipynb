{
 "cells": [
  {
   "cell_type": "code",
   "execution_count": null,
   "id": "0db6f49d",
   "metadata": {},
   "outputs": [],
   "source": [
    "import os\n",
    "import requests\n",
    "import json\n",
    "import urllib3\n",
    "import pandas as pd"
   ]
  },
  {
   "cell_type": "code",
   "execution_count": null,
   "id": "fcf1814c",
   "metadata": {},
   "outputs": [],
   "source": [
    "import jupytab"
   ]
  },
  {
   "cell_type": "code",
   "execution_count": null,
   "id": "80676643",
   "metadata": {},
   "outputs": [],
   "source": [
    "http_proxy  = os.environ.get('HTTP_PROXY')\n",
    "https_proxy = os.environ.get('HTTPS_PROXY')"
   ]
  },
  {
   "cell_type": "code",
   "execution_count": null,
   "id": "4b280339",
   "metadata": {},
   "outputs": [],
   "source": [
    "urllib3.disable_warnings(urllib3.exceptions.InsecureRequestWarning)\n",
    "proxies = {}"
   ]
  },
  {
   "cell_type": "code",
   "execution_count": null,
   "id": "b8fd330e",
   "metadata": {},
   "outputs": [],
   "source": [
    "if http_proxy:\n",
    "    proxies[\"http\"] = http_proxy\n",
    "    print(\"HTTP proxy defined as {}\".format(http_proxy))\n",
    "else:\n",
    "    print(\"No HTTP proxy defined\")"
   ]
  },
  {
   "cell_type": "code",
   "execution_count": null,
   "id": "ac6ef641",
   "metadata": {},
   "outputs": [],
   "source": [
    "if https_proxy:\n",
    "    proxies[\"https\"] = https_proxy\n",
    "    print(\"HTTPS proxy defined as {}\".format(http_proxy))\n",
    "else:\n",
    "    print(\"No HTTPS proxy defined\")"
   ]
  },
  {
   "cell_type": "code",
   "execution_count": null,
   "id": "7a626cd6",
   "metadata": {
    "lines_to_next_cell": 1
   },
   "outputs": [],
   "source": [
    "def compute_flights():\n",
    "    try:\n",
    "        states = requests.get(url='https://opensky-network.org/api/states/all',\n",
    "                              proxies=proxies,\n",
    "                              verify=False,\n",
    "                              timeout=5)\n",
    "        states_json = states.json()['states']\n",
    "    except Exception as e:\n",
    "        states_json = [{'icao24': str(e)}]\n",
    "\n",
    "    return pd.DataFrame(\n",
    "            data=states_json,\n",
    "            columns=['icao24', 'callsign', 'origin_country', 'time_position', 'last_contact',\n",
    "                     'longitude', 'latitude', 'baro_altitude', 'on_ground', 'velocity',\n",
    "                     'true_track', 'vertical_rate', 'sensors', 'geo_altitude', 'squawk',\n",
    "                     'spi', 'position_source'])\\\n",
    "        .set_index('icao24')"
   ]
  },
  {
   "cell_type": "code",
   "execution_count": null,
   "id": "3ad8f6e5",
   "metadata": {},
   "outputs": [],
   "source": [
    "flight_df = compute_flights()\n",
    "flight_df.head(5)"
   ]
  },
  {
   "cell_type": "code",
   "execution_count": null,
   "id": "45568ad7",
   "metadata": {},
   "outputs": [],
   "source": [
    "tables = jupytab.Tables()\n",
    "tables['flights'] = jupytab.DataFrameTable('All flights', dataframe=flight_df, refresh_method=compute_flights)"
   ]
  },
  {
   "cell_type": "code",
   "execution_count": null,
   "id": "d2159f31",
   "metadata": {},
   "outputs": [],
   "source": [
    "# GET /schema\n",
    "tables.render_schema()"
   ]
  },
  {
   "cell_type": "code",
   "execution_count": null,
   "id": "56070cef",
   "metadata": {},
   "outputs": [],
   "source": [
    "# GET /data\n",
    "tables.render_data(REQUEST)"
   ]
  }
 ],
 "metadata": {
  "jupytext": {
   "cell_metadata_filter": "-all",
   "main_language": "python",
   "notebook_metadata_filter": "-all"
  }
 },
 "nbformat": 4,
 "nbformat_minor": 5
}
